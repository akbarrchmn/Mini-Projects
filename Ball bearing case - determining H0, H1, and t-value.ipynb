{
 "cells": [
  {
   "cell_type": "markdown",
   "metadata": {},
   "source": [
    "A company claims to produce ball bearings of 10 cm diameter, and you decide to audit if that is true. You collect 21 ball bearings from multiple shops around the city and measure their diameter.\n",
    "\n",
    "The dataset provided is the aforementioned 21 ball bearings sample, within which contains the diameter of them."
   ]
  },
  {
   "cell_type": "code",
   "execution_count": 23,
   "metadata": {},
   "outputs": [],
   "source": [
    "import numpy as np\n",
    "import pandas as pd\n",
    "import math\n",
    "import scipy.stats as stats"
   ]
  },
  {
   "cell_type": "code",
   "execution_count": 24,
   "metadata": {},
   "outputs": [
    {
     "data": {
      "text/html": [
       "<div>\n",
       "<style scoped>\n",
       "    .dataframe tbody tr th:only-of-type {\n",
       "        vertical-align: middle;\n",
       "    }\n",
       "\n",
       "    .dataframe tbody tr th {\n",
       "        vertical-align: top;\n",
       "    }\n",
       "\n",
       "    .dataframe thead th {\n",
       "        text-align: right;\n",
       "    }\n",
       "</style>\n",
       "<table border=\"1\" class=\"dataframe\">\n",
       "  <thead>\n",
       "    <tr style=\"text-align: right;\">\n",
       "      <th></th>\n",
       "      <th>Diameter</th>\n",
       "    </tr>\n",
       "  </thead>\n",
       "  <tbody>\n",
       "    <tr>\n",
       "      <th>0</th>\n",
       "      <td>11.517897</td>\n",
       "    </tr>\n",
       "    <tr>\n",
       "      <th>1</th>\n",
       "      <td>11.759885</td>\n",
       "    </tr>\n",
       "    <tr>\n",
       "      <th>2</th>\n",
       "      <td>10.613659</td>\n",
       "    </tr>\n",
       "    <tr>\n",
       "      <th>3</th>\n",
       "      <td>10.430187</td>\n",
       "    </tr>\n",
       "    <tr>\n",
       "      <th>4</th>\n",
       "      <td>11.893794</td>\n",
       "    </tr>\n",
       "  </tbody>\n",
       "</table>\n",
       "</div>"
      ],
      "text/plain": [
       "    Diameter\n",
       "0  11.517897\n",
       "1  11.759885\n",
       "2  10.613659\n",
       "3  10.430187\n",
       "4  11.893794"
      ]
     },
     "execution_count": 24,
     "metadata": {},
     "output_type": "execute_result"
    }
   ],
   "source": [
    "df = pd.read_csv('G:/My Drive/Colab Notebooks/Homeworks/Homework Session 8/ball_bearing_sample_data.csv')\n",
    "df.head()"
   ]
  },
  {
   "cell_type": "markdown",
   "metadata": {},
   "source": [
    "Determine the H0 and H1\n",
    "\n",
    "H0 = ball bearings avg diameter is 10cm\n",
    "\n",
    "H1 = ball bearings avg diameter is not 10cm"
   ]
  },
  {
   "cell_type": "code",
   "execution_count": 25,
   "metadata": {},
   "outputs": [
    {
     "name": "stdout",
     "output_type": "stream",
     "text": [
      "t-value =  Diameter    10.202484\n",
      "dtype: float64\n"
     ]
    }
   ],
   "source": [
    "#Checking t-value manually\n",
    "manual_t = (df.mean() - 10) / (df.std()/math.sqrt(len(df)))\n",
    "print(\"t-value = \", manual_t)"
   ]
  },
  {
   "cell_type": "code",
   "execution_count": 26,
   "metadata": {},
   "outputs": [
    {
     "name": "stdout",
     "output_type": "stream",
     "text": [
      "t-value =  [10.20248446]\n",
      "p-value =  [2.25605301e-09]\n"
     ]
    }
   ],
   "source": [
    "#Checking t-value using scipy library\n",
    "t_stat, p_val = stats.ttest_1samp(a=df, popmean = 10)\n",
    "print(\"t-value = \", t_stat)\n",
    "print(\"p-value = \", p_val)"
   ]
  },
  {
   "cell_type": "markdown",
   "metadata": {},
   "source": [
    "From t-table, we can get the value for critical level:\n",
    "\n",
    "degree of freedom = 21 - 1 = 20\n",
    "\n",
    "alpha = 0.05 (two-tail)\n",
    "\n",
    "critical value = 2.086\n",
    "\n",
    "critical region = t < -2.086 or t > 2.086\n",
    "\n",
    "Since p-value is less than alpha, and t-value is in one of the critical region, then **we can reject H0, and can conclude that the average diameter of ball bearings is not 10cm.**"
   ]
  }
 ],
 "metadata": {
  "kernelspec": {
   "display_name": "base",
   "language": "python",
   "name": "python3"
  },
  "language_info": {
   "codemirror_mode": {
    "name": "ipython",
    "version": 3
   },
   "file_extension": ".py",
   "mimetype": "text/x-python",
   "name": "python",
   "nbconvert_exporter": "python",
   "pygments_lexer": "ipython3",
   "version": "3.10.9"
  },
  "orig_nbformat": 4
 },
 "nbformat": 4,
 "nbformat_minor": 2
}
